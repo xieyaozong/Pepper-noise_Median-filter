{
 "cells": [
  {
   "cell_type": "code",
   "execution_count": 1,
   "id": "56090d12",
   "metadata": {},
   "outputs": [],
   "source": [
    "import numpy as np\n",
    "import cv2 as cv"
   ]
  },
  {
   "cell_type": "code",
   "execution_count": 2,
   "id": "f3add61f",
   "metadata": {},
   "outputs": [],
   "source": [
    "image = cv.imread('1.jpg')"
   ]
  },
  {
   "cell_type": "code",
   "execution_count": 3,
   "id": "9ae353ab",
   "metadata": {},
   "outputs": [],
   "source": [
    "def salt_pepper_noise(image):\n",
    "    img = np.copy(image)\n",
    "    size = img.size\n",
    "    num_salt = np.ceil(0.1*0.5*size).astype('int')\n",
    "    num_pepper = np.ceil(0.1*0.5*size).astype('int')\n",
    "    row , column = img.shape[:2]\n",
    "    \n",
    "    x = np.random.randint(0,column-1,num_pepper)\n",
    "    y = np.random.randint(0,row-1,num_pepper)\n",
    "    img[y,x] = 0 #pepper noise\n",
    "    \n",
    "    x = np.random.randint(0,column-1,num_salt)\n",
    "    y = np.random.randint(0,row-1,num_salt)\n",
    "    img[y,x] = 255 #salt noise\n",
    "    \n",
    "    return img"
   ]
  },
  {
   "cell_type": "code",
   "execution_count": 4,
   "id": "46d7bd54",
   "metadata": {},
   "outputs": [],
   "source": [
    "def median_filter(image,size):\n",
    "    H,W,C = image.shape    \n",
    "    \n",
    "    pad = size // 2\n",
    "    \n",
    "    out = np.zeros((H + pad*2, W + pad*2, C), dtype=np.float)\n",
    "    \n",
    "    out[pad:pad+H, pad:pad+W] = image.copy().astype(np.float)\n",
    "    \n",
    "    tmp = out.copy()\n",
    "\n",
    "    for y in range(H):\n",
    "        for x in range(W):\n",
    "            for c in range(C):\n",
    "                out[pad+y, pad+x, c] = np.median(tmp[y:y+size, x:x+size, c])\n",
    "    \n",
    "    out = out[pad:pad+H, pad:pad+W].astype(np.uint8)\n",
    "    \n",
    "    return out"
   ]
  },
  {
   "cell_type": "code",
   "execution_count": null,
   "id": "3c231eea",
   "metadata": {},
   "outputs": [],
   "source": [
    "image1 = salt_pepper_noise(image)\n",
    "\n",
    "image2 = salt_pepper_noise(image)"
   ]
  },
  {
   "cell_type": "code",
   "execution_count": 5,
   "id": "1dd2bf46",
   "metadata": {},
   "outputs": [
    {
     "data": {
      "text/plain": [
       "True"
      ]
     },
     "execution_count": 5,
     "metadata": {},
     "output_type": "execute_result"
    }
   ],
   "source": [
    "cv.imwrite(\"noise.jpg\", image1)"
   ]
  },
  {
   "cell_type": "code",
   "execution_count": 6,
   "id": "f5e2ac3f",
   "metadata": {},
   "outputs": [
    {
     "name": "stderr",
     "output_type": "stream",
     "text": [
      "C:\\Users\\User\\AppData\\Local\\Temp\\ipykernel_3612\\3373544957.py:6: DeprecationWarning: `np.float` is a deprecated alias for the builtin `float`. To silence this warning, use `float` by itself. Doing this will not modify any behavior and is safe. If you specifically wanted the numpy scalar type, use `np.float64` here.\n",
      "Deprecated in NumPy 1.20; for more details and guidance: https://numpy.org/devdocs/release/1.20.0-notes.html#deprecations\n",
      "  out = np.zeros((H + pad*2, W + pad*2, C), dtype=np.float)\n",
      "C:\\Users\\User\\AppData\\Local\\Temp\\ipykernel_3612\\3373544957.py:8: DeprecationWarning: `np.float` is a deprecated alias for the builtin `float`. To silence this warning, use `float` by itself. Doing this will not modify any behavior and is safe. If you specifically wanted the numpy scalar type, use `np.float64` here.\n",
      "Deprecated in NumPy 1.20; for more details and guidance: https://numpy.org/devdocs/release/1.20.0-notes.html#deprecations\n",
      "  out[pad:pad+H, pad:pad+W] = image.copy().astype(np.float)\n"
     ]
    }
   ],
   "source": [
    "p3_1 = median_filter(image1,3)\n",
    "\n",
    "p3_2 = median_filter(p3_1,3)\n",
    "\n",
    "cv.imwrite(\"p3.jpg\", p3_2)\n",
    "\n",
    "cv.waitKey(0)\n",
    "\n",
    "cv.destroyAllWindows()"
   ]
  },
  {
   "cell_type": "code",
   "execution_count": 7,
   "id": "48882e14",
   "metadata": {},
   "outputs": [
    {
     "name": "stderr",
     "output_type": "stream",
     "text": [
      "C:\\Users\\User\\AppData\\Local\\Temp\\ipykernel_3612\\3373544957.py:6: DeprecationWarning: `np.float` is a deprecated alias for the builtin `float`. To silence this warning, use `float` by itself. Doing this will not modify any behavior and is safe. If you specifically wanted the numpy scalar type, use `np.float64` here.\n",
      "Deprecated in NumPy 1.20; for more details and guidance: https://numpy.org/devdocs/release/1.20.0-notes.html#deprecations\n",
      "  out = np.zeros((H + pad*2, W + pad*2, C), dtype=np.float)\n",
      "C:\\Users\\User\\AppData\\Local\\Temp\\ipykernel_3612\\3373544957.py:8: DeprecationWarning: `np.float` is a deprecated alias for the builtin `float`. To silence this warning, use `float` by itself. Doing this will not modify any behavior and is safe. If you specifically wanted the numpy scalar type, use `np.float64` here.\n",
      "Deprecated in NumPy 1.20; for more details and guidance: https://numpy.org/devdocs/release/1.20.0-notes.html#deprecations\n",
      "  out[pad:pad+H, pad:pad+W] = image.copy().astype(np.float)\n"
     ]
    }
   ],
   "source": [
    "p5 = median_filter(image2,5)\n",
    "\n",
    "cv.imwrite(\"p5.jpg\", p5)\n",
    "\n",
    "cv.waitKey(0)\n",
    "\n",
    "cv.destroyAllWindows()"
   ]
  },
  {
   "cell_type": "code",
   "execution_count": null,
   "id": "a7f8b7e7",
   "metadata": {},
   "outputs": [],
   "source": []
  }
 ],
 "metadata": {
  "kernelspec": {
   "display_name": "Python 3",
   "language": "python",
   "name": "python3"
  },
  "language_info": {
   "codemirror_mode": {
    "name": "ipython",
    "version": 3
   },
   "file_extension": ".py",
   "mimetype": "text/x-python",
   "name": "python",
   "nbconvert_exporter": "python",
   "pygments_lexer": "ipython3",
   "version": "3.9.12"
  }
 },
 "nbformat": 4,
 "nbformat_minor": 5
}
